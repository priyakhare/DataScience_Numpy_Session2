{
 "cells": [
  {
   "cell_type": "code",
   "execution_count": null,
   "metadata": {},
   "outputs": [],
   "source": [
    "#                                Session -7 Assignment (Numpy package)\n",
    "\n",
    "#*****************************************************************************\n",
    "#      Program : To Write a Function to calculate the Moving average over a window\n",
    "#\n",
    "#*****************************************************************************\n",
    "import numpy as np\n",
    "\n",
    "# function to calculate moving averages , takes 2 array whose moving average to be \n",
    "# calculated and the window \n",
    "\n",
    "def calMovAvg(inpArray, wdVal):\n",
    "    lenarr = inpArray.size\n",
    "    outArrSize = lenarr-wdVal+1\n",
    "    outArr =  np.zeros(outArrSize)\n",
    "    for ind in range(outArrSize):\n",
    "        outArr[ind] = np.around((np.sum(inpArray[ind:ind+wdVal]))/wdVal,2)\n",
    "    return outArr\n",
    "\n",
    "\n",
    "# invoking the function to calculate moving average\n",
    "\n",
    "# Array whose moving average to be calculated\n",
    "inpArray = np.array([3,5,7,2,8,10,11,65,72,81,99,100,150])\n",
    "\n",
    "# Window for calculating the value\n",
    "winVal = 3\n",
    "\n",
    "print(\"The Array for whom moving average to be calculated \\n :\" ,inpArray)\n",
    "\n",
    "print(\"The Window of calculation is : %d\\n\"  %winVal)\n",
    "outPutArr = calMovAvg(inpArray,winVal)\n",
    "print(\"The Moving Average is : \\n\",outPutArr)\n",
    "\n",
    "\n",
    "#*****************************************************************************\n",
    "\n"
   ]
  }
 ],
 "metadata": {
  "kernelspec": {
   "display_name": "Python 3",
   "language": "python",
   "name": "python3"
  },
  "language_info": {
   "codemirror_mode": {
    "name": "ipython",
    "version": 3
   },
   "file_extension": ".py",
   "mimetype": "text/x-python",
   "name": "python",
   "nbconvert_exporter": "python",
   "pygments_lexer": "ipython3",
   "version": "3.6.5"
  }
 },
 "nbformat": 4,
 "nbformat_minor": 2
}
